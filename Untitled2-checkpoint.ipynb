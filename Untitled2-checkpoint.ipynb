{
 "cells": [
  {
   "cell_type": "code",
   "execution_count": 7,
   "id": "4e6bff44",
   "metadata": {},
   "outputs": [
    {
     "name": "stdout",
     "output_type": "stream",
     "text": [
      "Enter the value of a : 45\n",
      "Enter the value of b : 20\n",
      "Sum : 65,Sub : 25 ,Mul : 900, Div : 2.25,mod : 5\n",
      "Sum : 65 , Sub : 25 , Mul : 900 , Div :           2.250 , Mod : 5\n"
     ]
    }
   ],
   "source": [
    "a = int(input(\"Enter the value of a : \"))\n",
    "b = int(input(\"Enter the value of b : \"))\n",
    "add = a+b\n",
    "sub = a-b\n",
    "mul = a*b\n",
    "div = a/b\n",
    "mod  = a%b\n",
    "print(\"Sum : {0},Sub : {1} ,Mul : {2}, Div : {3},mod : {4}\".format(add,sub,mul,div,mod))#print using format\n",
    "print(\"Sum : %d , Sub : %d , Mul : %d , Div : %15.3f , Mod : %d\"%(add,sub,mul,div,mod))#print using PADDLING AND PRICISION"
   ]
  },
  {
   "cell_type": "code",
   "execution_count": 8,
   "id": "3dca9bfc",
   "metadata": {},
   "outputs": [
    {
     "name": "stdout",
     "output_type": "stream",
     "text": [
      "Sum  | Sub  | Mul  | Div  | mod \n",
      "65   | 25   | 900  | 2.25 | 5   \n"
     ]
    }
   ],
   "source": [
    "print(\"{0:<4} | {1:<4} | {2:<4} | {3:<4} | {4:<4}\".format(\"Sum\",\"Sub\",\"Mul\",\"Div\",\"mod\"))\n",
    "print(\"{0:<4} | {1:<4} | {2:<4} | {3:<4} | {4:<4}\".format(add,sub,mul,div,mod))"
   ]
  },
  {
   "cell_type": "code",
   "execution_count": 9,
   "id": "f942e369",
   "metadata": {},
   "outputs": [
    {
     "name": "stdout",
     "output_type": "stream",
     "text": [
      "8\n"
     ]
    }
   ],
   "source": [
    "a = 2\n",
    "b = 3\n",
    "c = a**b #power\n",
    "print(c)"
   ]
  },
  {
   "cell_type": "code",
   "execution_count": null,
   "id": "5ca0d409",
   "metadata": {},
   "outputs": [],
   "source": []
  },
  {
   "cell_type": "code",
   "execution_count": null,
   "id": "619d476e",
   "metadata": {},
   "outputs": [],
   "source": []
  },
  {
   "cell_type": "code",
   "execution_count": 10,
   "id": "151dd974",
   "metadata": {},
   "outputs": [
    {
     "data": {
      "text/plain": [
       "[1, 67, 4, 2, 5]"
      ]
     },
     "execution_count": 10,
     "metadata": {},
     "output_type": "execute_result"
    }
   ],
   "source": [
    "a = [1,2,5,67,4]\n",
    "\n",
    "from random import shuffle\n",
    "shuffle(a)\n",
    "a"
   ]
  },
  {
   "cell_type": "code",
   "execution_count": 23,
   "id": "15ff6529",
   "metadata": {},
   "outputs": [],
   "source": [
    "#IMPORT LIBRARY\n",
    "import pandas as pd"
   ]
  },
  {
   "cell_type": "code",
   "execution_count": 13,
   "id": "cfa81552",
   "metadata": {},
   "outputs": [],
   "source": [
    "#LOAD DATASET FROM LOCAL DIRECTORY\n",
    "dataset = pd.read_csv(\"C:\\\\Users\\\\PIYUSH\\Downloads\\\\6_Statistics_UseCase\\\\Dataset.csv\")"
   ]
  },
  {
   "cell_type": "code",
   "execution_count": 14,
   "id": "b13c67c6",
   "metadata": {},
   "outputs": [
    {
     "data": {
      "text/html": [
       "<div>\n",
       "<style scoped>\n",
       "    .dataframe tbody tr th:only-of-type {\n",
       "        vertical-align: middle;\n",
       "    }\n",
       "\n",
       "    .dataframe tbody tr th {\n",
       "        vertical-align: top;\n",
       "    }\n",
       "\n",
       "    .dataframe thead th {\n",
       "        text-align: right;\n",
       "    }\n",
       "</style>\n",
       "<table border=\"1\" class=\"dataframe\">\n",
       "  <thead>\n",
       "    <tr style=\"text-align: right;\">\n",
       "      <th></th>\n",
       "      <th>land</th>\n",
       "      <th>price</th>\n",
       "    </tr>\n",
       "  </thead>\n",
       "  <tbody>\n",
       "    <tr>\n",
       "      <th>0</th>\n",
       "      <td>1000</td>\n",
       "      <td>2245.0</td>\n",
       "    </tr>\n",
       "    <tr>\n",
       "      <th>1</th>\n",
       "      <td>2000</td>\n",
       "      <td>4575.0</td>\n",
       "    </tr>\n",
       "    <tr>\n",
       "      <th>2</th>\n",
       "      <td>3000</td>\n",
       "      <td>6874.0</td>\n",
       "    </tr>\n",
       "    <tr>\n",
       "      <th>3</th>\n",
       "      <td>4000</td>\n",
       "      <td>8878.0</td>\n",
       "    </tr>\n",
       "    <tr>\n",
       "      <th>4</th>\n",
       "      <td>5000</td>\n",
       "      <td>NaN</td>\n",
       "    </tr>\n",
       "  </tbody>\n",
       "</table>\n",
       "</div>"
      ],
      "text/plain": [
       "   land   price\n",
       "0  1000  2245.0\n",
       "1  2000  4575.0\n",
       "2  3000  6874.0\n",
       "3  4000  8878.0\n",
       "4  5000     NaN"
      ]
     },
     "execution_count": 14,
     "metadata": {},
     "output_type": "execute_result"
    }
   ],
   "source": [
    "dataset.head()"
   ]
  },
  {
   "cell_type": "code",
   "execution_count": 15,
   "id": "207b4bbe",
   "metadata": {},
   "outputs": [
    {
     "data": {
      "text/html": [
       "<div>\n",
       "<style scoped>\n",
       "    .dataframe tbody tr th:only-of-type {\n",
       "        vertical-align: middle;\n",
       "    }\n",
       "\n",
       "    .dataframe tbody tr th {\n",
       "        vertical-align: top;\n",
       "    }\n",
       "\n",
       "    .dataframe thead th {\n",
       "        text-align: right;\n",
       "    }\n",
       "</style>\n",
       "<table border=\"1\" class=\"dataframe\">\n",
       "  <thead>\n",
       "    <tr style=\"text-align: right;\">\n",
       "      <th></th>\n",
       "      <th>land</th>\n",
       "      <th>price</th>\n",
       "    </tr>\n",
       "  </thead>\n",
       "  <tbody>\n",
       "    <tr>\n",
       "      <th>0</th>\n",
       "      <td>1000</td>\n",
       "      <td>2245.0</td>\n",
       "    </tr>\n",
       "    <tr>\n",
       "      <th>1</th>\n",
       "      <td>2000</td>\n",
       "      <td>4575.0</td>\n",
       "    </tr>\n",
       "    <tr>\n",
       "      <th>2</th>\n",
       "      <td>3000</td>\n",
       "      <td>6874.0</td>\n",
       "    </tr>\n",
       "    <tr>\n",
       "      <th>3</th>\n",
       "      <td>4000</td>\n",
       "      <td>8878.0</td>\n",
       "    </tr>\n",
       "    <tr>\n",
       "      <th>4</th>\n",
       "      <td>5000</td>\n",
       "      <td>NaN</td>\n",
       "    </tr>\n",
       "    <tr>\n",
       "      <th>5</th>\n",
       "      <td>6000</td>\n",
       "      <td>12457.0</td>\n",
       "    </tr>\n",
       "    <tr>\n",
       "      <th>6</th>\n",
       "      <td>7000</td>\n",
       "      <td>14785.0</td>\n",
       "    </tr>\n",
       "    <tr>\n",
       "      <th>7</th>\n",
       "      <td>8000</td>\n",
       "      <td>16785.0</td>\n",
       "    </tr>\n",
       "    <tr>\n",
       "      <th>8</th>\n",
       "      <td>10000</td>\n",
       "      <td>2078900.0</td>\n",
       "    </tr>\n",
       "  </tbody>\n",
       "</table>\n",
       "</div>"
      ],
      "text/plain": [
       "    land      price\n",
       "0   1000     2245.0\n",
       "1   2000     4575.0\n",
       "2   3000     6874.0\n",
       "3   4000     8878.0\n",
       "4   5000        NaN\n",
       "5   6000    12457.0\n",
       "6   7000    14785.0\n",
       "7   8000    16785.0\n",
       "8  10000  2078900.0"
      ]
     },
     "execution_count": 15,
     "metadata": {},
     "output_type": "execute_result"
    }
   ],
   "source": [
    "#LOAD DATASET\n",
    "dataset"
   ]
  },
  {
   "cell_type": "code",
   "execution_count": 16,
   "id": "57cd031d",
   "metadata": {},
   "outputs": [
    {
     "name": "stdout",
     "output_type": "stream",
     "text": [
      "(9, 2)\n",
      "               land         price\n",
      "count      9.000000  8.000000e+00\n",
      "mean    5111.111111  2.681874e+05\n",
      "std     2934.469477  7.316554e+05\n",
      "min     1000.000000  2.245000e+03\n",
      "25%     3000.000000  6.299250e+03\n",
      "50%     5000.000000  1.066750e+04\n",
      "75%     7000.000000  1.528500e+04\n",
      "max    10000.000000  2.078900e+06\n"
     ]
    }
   ],
   "source": [
    "#LOAD SUMMARIZE\n",
    "print(dataset.shape)\n",
    "print(dataset.describe())"
   ]
  },
  {
   "cell_type": "code",
   "execution_count": 17,
   "id": "5e68122a",
   "metadata": {},
   "outputs": [
    {
     "data": {
      "text/plain": [
       "land     False\n",
       "price     True\n",
       "dtype: bool"
      ]
     },
     "execution_count": 17,
     "metadata": {},
     "output_type": "execute_result"
    }
   ],
   "source": [
    "#CHECKING FOR NAN VALUE\n",
    "dataset.isna().any()"
   ]
  },
  {
   "cell_type": "code",
   "execution_count": 18,
   "id": "193ec2fa",
   "metadata": {},
   "outputs": [
    {
     "data": {
      "text/plain": [
       "0       2245.000\n",
       "1       4575.000\n",
       "2       6874.000\n",
       "3       8878.000\n",
       "4     268187.375\n",
       "5      12457.000\n",
       "6      14785.000\n",
       "7      16785.000\n",
       "8    2078900.000\n",
       "Name: price, dtype: float64"
      ]
     },
     "execution_count": 18,
     "metadata": {},
     "output_type": "execute_result"
    }
   ],
   "source": [
    "#FILLING NAN VALUE WITH MEAN\n",
    "#PROBLEM - NEW VALUE BECOMES HIGH COZ OF OUTLIER(HIGH VALUE SCALE)\n",
    "Meandatasetnotnan = dataset.price.fillna(dataset.price.mean())\n",
    "Meandatasetnotnan"
   ]
  },
  {
   "cell_type": "code",
   "execution_count": 19,
   "id": "142f7b28",
   "metadata": {},
   "outputs": [
    {
     "data": {
      "text/plain": [
       "0       2245.0\n",
       "1       4575.0\n",
       "2       6874.0\n",
       "3       8878.0\n",
       "4      10667.5\n",
       "5      12457.0\n",
       "6      14785.0\n",
       "7      16785.0\n",
       "8    2078900.0\n",
       "Name: price, dtype: float64"
      ]
     },
     "execution_count": 19,
     "metadata": {},
     "output_type": "execute_result"
    }
   ],
   "source": [
    "#FILLING NAN VALUE WITH MEDIAN\n",
    "Mediandatasetnotnan = dataset.price.fillna(dataset.price.median())\n",
    "Mediandatasetnotnan"
   ]
  },
  {
   "cell_type": "code",
   "execution_count": 20,
   "id": "1c6059c9",
   "metadata": {},
   "outputs": [
    {
     "data": {
      "text/html": [
       "<div>\n",
       "<style scoped>\n",
       "    .dataframe tbody tr th:only-of-type {\n",
       "        vertical-align: middle;\n",
       "    }\n",
       "\n",
       "    .dataframe tbody tr th {\n",
       "        vertical-align: top;\n",
       "    }\n",
       "\n",
       "    .dataframe thead th {\n",
       "        text-align: right;\n",
       "    }\n",
       "</style>\n",
       "<table border=\"1\" class=\"dataframe\">\n",
       "  <thead>\n",
       "    <tr style=\"text-align: right;\">\n",
       "      <th></th>\n",
       "      <th>land</th>\n",
       "      <th>price</th>\n",
       "    </tr>\n",
       "  </thead>\n",
       "  <tbody>\n",
       "    <tr>\n",
       "      <th>count</th>\n",
       "      <td>9.000000</td>\n",
       "      <td>8.000000e+00</td>\n",
       "    </tr>\n",
       "    <tr>\n",
       "      <th>mean</th>\n",
       "      <td>5111.111111</td>\n",
       "      <td>2.681874e+05</td>\n",
       "    </tr>\n",
       "    <tr>\n",
       "      <th>std</th>\n",
       "      <td>2934.469477</td>\n",
       "      <td>7.316554e+05</td>\n",
       "    </tr>\n",
       "    <tr>\n",
       "      <th>min</th>\n",
       "      <td>1000.000000</td>\n",
       "      <td>2.245000e+03</td>\n",
       "    </tr>\n",
       "    <tr>\n",
       "      <th>25%</th>\n",
       "      <td>3000.000000</td>\n",
       "      <td>6.299250e+03</td>\n",
       "    </tr>\n",
       "    <tr>\n",
       "      <th>50%</th>\n",
       "      <td>5000.000000</td>\n",
       "      <td>1.066750e+04</td>\n",
       "    </tr>\n",
       "    <tr>\n",
       "      <th>75%</th>\n",
       "      <td>7000.000000</td>\n",
       "      <td>1.528500e+04</td>\n",
       "    </tr>\n",
       "    <tr>\n",
       "      <th>max</th>\n",
       "      <td>10000.000000</td>\n",
       "      <td>2.078900e+06</td>\n",
       "    </tr>\n",
       "  </tbody>\n",
       "</table>\n",
       "</div>"
      ],
      "text/plain": [
       "               land         price\n",
       "count      9.000000  8.000000e+00\n",
       "mean    5111.111111  2.681874e+05\n",
       "std     2934.469477  7.316554e+05\n",
       "min     1000.000000  2.245000e+03\n",
       "25%     3000.000000  6.299250e+03\n",
       "50%     5000.000000  1.066750e+04\n",
       "75%     7000.000000  1.528500e+04\n",
       "max    10000.000000  2.078900e+06"
      ]
     },
     "execution_count": 20,
     "metadata": {},
     "output_type": "execute_result"
    }
   ],
   "source": [
    "dataset.describe()"
   ]
  },
  {
   "cell_type": "code",
   "execution_count": 21,
   "id": "46b5ddd5",
   "metadata": {},
   "outputs": [
    {
     "data": {
      "text/plain": [
       "2078900.0"
      ]
     },
     "execution_count": 21,
     "metadata": {},
     "output_type": "execute_result"
    }
   ],
   "source": [
    "percentile = dataset.price.quantile(1)\n",
    "percentile"
   ]
  },
  {
   "cell_type": "code",
   "execution_count": 22,
   "id": "a581189e",
   "metadata": {},
   "outputs": [
    {
     "data": {
      "text/html": [
       "<div>\n",
       "<style scoped>\n",
       "    .dataframe tbody tr th:only-of-type {\n",
       "        vertical-align: middle;\n",
       "    }\n",
       "\n",
       "    .dataframe tbody tr th {\n",
       "        vertical-align: top;\n",
       "    }\n",
       "\n",
       "    .dataframe thead th {\n",
       "        text-align: right;\n",
       "    }\n",
       "</style>\n",
       "<table border=\"1\" class=\"dataframe\">\n",
       "  <thead>\n",
       "    <tr style=\"text-align: right;\">\n",
       "      <th></th>\n",
       "      <th>land</th>\n",
       "      <th>price</th>\n",
       "    </tr>\n",
       "  </thead>\n",
       "  <tbody>\n",
       "    <tr>\n",
       "      <th>0</th>\n",
       "      <td>1000</td>\n",
       "      <td>2245.0</td>\n",
       "    </tr>\n",
       "    <tr>\n",
       "      <th>1</th>\n",
       "      <td>2000</td>\n",
       "      <td>4575.0</td>\n",
       "    </tr>\n",
       "    <tr>\n",
       "      <th>2</th>\n",
       "      <td>3000</td>\n",
       "      <td>6874.0</td>\n",
       "    </tr>\n",
       "    <tr>\n",
       "      <th>3</th>\n",
       "      <td>4000</td>\n",
       "      <td>8878.0</td>\n",
       "    </tr>\n",
       "    <tr>\n",
       "      <th>5</th>\n",
       "      <td>6000</td>\n",
       "      <td>12457.0</td>\n",
       "    </tr>\n",
       "    <tr>\n",
       "      <th>6</th>\n",
       "      <td>7000</td>\n",
       "      <td>14785.0</td>\n",
       "    </tr>\n",
       "    <tr>\n",
       "      <th>7</th>\n",
       "      <td>8000</td>\n",
       "      <td>16785.0</td>\n",
       "    </tr>\n",
       "  </tbody>\n",
       "</table>\n",
       "</div>"
      ],
      "text/plain": [
       "   land    price\n",
       "0  1000   2245.0\n",
       "1  2000   4575.0\n",
       "2  3000   6874.0\n",
       "3  4000   8878.0\n",
       "5  6000  12457.0\n",
       "6  7000  14785.0\n",
       "7  8000  16785.0"
      ]
     },
     "execution_count": 22,
     "metadata": {},
     "output_type": "execute_result"
    }
   ],
   "source": [
    "datasetnooutlier = dataset[dataset.price<percentile]\n",
    "datasetnooutlier"
   ]
  },
  {
   "cell_type": "code",
   "execution_count": 1,
   "id": "538f1bce",
   "metadata": {},
   "outputs": [],
   "source": [
    "# creating the first class\n",
    "class Phone :             #the first letter of class  always capital\n",
    "    \n",
    "    def make_call(self):\n",
    "        print(\"making phone call\")\n",
    "        \n",
    "    def play_game(self):\n",
    "        print(\"I am playing a game\")\n",
    "        \n",
    "        "
   ]
  },
  {
   "cell_type": "code",
   "execution_count": 3,
   "id": "e74ac747",
   "metadata": {},
   "outputs": [],
   "source": [
    "p1 = Phone()  #making object of this class\n"
   ]
  },
  {
   "cell_type": "code",
   "execution_count": 6,
   "id": "3c945162",
   "metadata": {},
   "outputs": [
    {
     "name": "stdout",
     "output_type": "stream",
     "text": [
      "making phone call\n",
      "I am playing a game\n"
     ]
    }
   ],
   "source": [
    "#implementation\n",
    "p1.make_call()\n",
    "p1.play_game()"
   ]
  },
  {
   "cell_type": "code",
   "execution_count": 9,
   "id": "142f403e",
   "metadata": {},
   "outputs": [],
   "source": [
    "#adding parameters to the class\n",
    "\n",
    "class Phone:\n",
    "    \n",
    "    def set_color(self,color):\n",
    "        self.color = color \n",
    "        \n",
    "    def set_cost(self,cost):\n",
    "        self.cost = cost\n",
    "    \n",
    "    def show_color(self):\n",
    "        return self.color\n",
    "    \n",
    "    def show_cost(self):\n",
    "        return self.cost\n",
    "    \n",
    "    def make_call(self):\n",
    "        print(\"making phone call\")\n",
    "        \n",
    "    def play_game(self):\n",
    "        print(\"I am playing a game\")\n",
    "        \n",
    "        \n",
    "    "
   ]
  },
  {
   "cell_type": "code",
   "execution_count": 10,
   "id": "fa7a9f4c",
   "metadata": {},
   "outputs": [],
   "source": [
    "p2 = Phone()  #assign a class to object"
   ]
  },
  {
   "cell_type": "code",
   "execution_count": 17,
   "id": "afd5a99c",
   "metadata": {},
   "outputs": [],
   "source": [
    "p2.set_color(\"blue\")\n",
    "p2.set_cost( \"forty five lakh\")"
   ]
  },
  {
   "cell_type": "code",
   "execution_count": 19,
   "id": "84004b87",
   "metadata": {},
   "outputs": [
    {
     "data": {
      "text/plain": [
       "'blue'"
      ]
     },
     "execution_count": 19,
     "metadata": {},
     "output_type": "execute_result"
    }
   ],
   "source": [
    "p2.show_color()\n"
   ]
  },
  {
   "cell_type": "code",
   "execution_count": 20,
   "id": "5c465ecc",
   "metadata": {},
   "outputs": [
    {
     "data": {
      "text/plain": [
       "'forty five lakh'"
      ]
     },
     "execution_count": 20,
     "metadata": {},
     "output_type": "execute_result"
    }
   ],
   "source": [
    "p2.show_cost()"
   ]
  },
  {
   "cell_type": "code",
   "execution_count": 21,
   "id": "2cb38462",
   "metadata": {},
   "outputs": [],
   "source": [
    "##creating a class with constructor (init)\n",
    "\n",
    "class Employee:\n",
    "    \n",
    "    def __init__(self,name,age,salary,gender):\n",
    "        \n",
    "        self.name = name\n",
    "        self.age = age\n",
    "        self.salary = salary\n",
    "        self.gender = gender\n",
    "    def employee_details(self):\n",
    "        \n",
    "        print(\"Name of employee is\",self.name)\n",
    "        print(\"Age of employee is\",self.age)\n",
    "        print(\"Salary of employee is\",self.salary)\n",
    "        print(\"Gender of employee is\",self.gender)"
   ]
  },
  {
   "cell_type": "code",
   "execution_count": 22,
   "id": "4c5f9380",
   "metadata": {},
   "outputs": [],
   "source": [
    "## initiating the 'e1' object\n",
    "\n",
    "e1 = Employee('sam',32,85000,'male')"
   ]
  },
  {
   "cell_type": "code",
   "execution_count": 23,
   "id": "f83c91f0",
   "metadata": {},
   "outputs": [
    {
     "name": "stdout",
     "output_type": "stream",
     "text": [
      "Name of employee is sam\n",
      "Age of employee is 32\n",
      "Salary of employee is 85000\n",
      "Gender of employee is male\n"
     ]
    }
   ],
   "source": [
    "## invoking the 'employee_details' method\n",
    "e1.employee_details()"
   ]
  },
  {
   "cell_type": "code",
   "execution_count": 4,
   "id": "7d0aa14a",
   "metadata": {},
   "outputs": [],
   "source": [
    "##INHERITENCE\n",
    "\n",
    "#creating the base class\n",
    "\n",
    "class Vehicle:\n",
    "    \n",
    "    def __init__(self,mileage,cost):\n",
    "        self.mileage = mileage\n",
    "        self.cost = cost\n",
    "        \n",
    "    def show_details(self):\n",
    "        print(\"I am a vehicle\")\n",
    "        print(\"mileage of vehicle is\",self.mileage)\n",
    "        print(\"cost of vehicle is\",self.cost)\n",
    "        \n",
    "        "
   ]
  },
  {
   "cell_type": "code",
   "execution_count": 5,
   "id": "b9705cfd",
   "metadata": {},
   "outputs": [
    {
     "name": "stdout",
     "output_type": "stream",
     "text": [
      "I am a vehicle\n",
      "mileage of vehicle is 500\n",
      "cost of vehicle is 500\n"
     ]
    }
   ],
   "source": [
    "#instantiating the object for base class\n",
    "v1 = Vehicle(500,500)\n",
    "v1.show_details()\n"
   ]
  },
  {
   "cell_type": "code",
   "execution_count": 6,
   "id": "addd6913",
   "metadata": {},
   "outputs": [],
   "source": [
    "#creating the child class\n",
    "\n",
    "class Car(Vehicle):\n",
    "    def show_car(self):\n",
    "        print(\"i am a car\")"
   ]
  },
  {
   "cell_type": "code",
   "execution_count": 7,
   "id": "2b18fc1b",
   "metadata": {},
   "outputs": [
    {
     "name": "stdout",
     "output_type": "stream",
     "text": [
      "I am a vehicle\n",
      "mileage of vehicle is 200\n",
      "cost of vehicle is 1200\n"
     ]
    }
   ],
   "source": [
    "#instantiating the object for child class\n",
    "\n",
    "c1 = Car(200,1200)\n",
    "c1.show_details()"
   ]
  },
  {
   "cell_type": "code",
   "execution_count": 8,
   "id": "1914d00e",
   "metadata": {},
   "outputs": [
    {
     "name": "stdout",
     "output_type": "stream",
     "text": [
      "i am a car\n"
     ]
    }
   ],
   "source": [
    "#invoking the child class method\n",
    "\n",
    "c1.show_car()\n"
   ]
  },
  {
   "cell_type": "code",
   "execution_count": 10,
   "id": "69ecb09c",
   "metadata": {},
   "outputs": [],
   "source": [
    "#OVERRIDING INIT METHOD\n",
    "class Car(Vehicle):\n",
    "    def __init__(self,mileage,cost,tyres,hp):\n",
    "        super().__init__(mileage,cost)\n",
    "        self.tyres = tyres\n",
    "        self.hp = hp\n",
    "    def show_car_details(self):\n",
    "        print(\"numbers of tyres in car:\",self.tyres)\n",
    "        print(\"Horse power of car is \", self.hp)\n",
    "        \n",
    "        "
   ]
  },
  {
   "cell_type": "code",
   "execution_count": 12,
   "id": "05e9c4e6",
   "metadata": {},
   "outputs": [
    {
     "data": {
      "text/plain": [
       "<bound method Car.show_car_details of <__main__.Car object at 0x039AC508>>"
      ]
     },
     "execution_count": 12,
     "metadata": {},
     "output_type": "execute_result"
    }
   ],
   "source": [
    "c1 = Car(600,10000000,8,999)\n",
    "c1.show_car_details"
   ]
  },
  {
   "cell_type": "code",
   "execution_count": 3,
   "id": "73158796",
   "metadata": {},
   "outputs": [],
   "source": [
    "#multiple inheritance\n",
    "#Parent class one\n",
    "\n",
    "class Parent1():\n",
    "    def assign_string_one(self,str1):\n",
    "        self.str1  = str1\n",
    "    def show_string_one(self):\n",
    "        return self.str1"
   ]
  },
  {
   "cell_type": "code",
   "execution_count": 4,
   "id": "3f2f7a81",
   "metadata": {},
   "outputs": [],
   "source": [
    "#Parent class two\n",
    "class Parent2():\n",
    "    def assign_string_two(self,str2):\n",
    "        self.str2  = str2\n",
    "    def show_string_two(self):\n",
    "        return self.str2\n"
   ]
  },
  {
   "cell_type": "code",
   "execution_count": 5,
   "id": "b0f3ac5d",
   "metadata": {},
   "outputs": [],
   "source": [
    "#Child class\n",
    "\n",
    "class Derived(Parent1,Parent2):\n",
    "    def assign_string_three(self,str3):\n",
    "        self.str3 = str3\n",
    "        \n",
    "    def show_string_three(self):\n",
    "        return self.str3"
   ]
  },
  {
   "cell_type": "code",
   "execution_count": 8,
   "id": "aed35469",
   "metadata": {},
   "outputs": [],
   "source": [
    "#INSTANTIATING OBJECT OF CHILD CLASS\n",
    "d1  = Derived()\n"
   ]
  },
  {
   "cell_type": "code",
   "execution_count": 10,
   "id": "7b128336",
   "metadata": {},
   "outputs": [],
   "source": [
    "d1.assign_string_one(\"one\")\n",
    "d1.assign_string_two(\"two\")\n",
    "d1.assign_string_three(\"three\")"
   ]
  },
  {
   "cell_type": "code",
   "execution_count": 11,
   "id": "fc76ccac",
   "metadata": {},
   "outputs": [
    {
     "data": {
      "text/plain": [
       "'one'"
      ]
     },
     "execution_count": 11,
     "metadata": {},
     "output_type": "execute_result"
    }
   ],
   "source": [
    "#invoking method\n",
    "d1.show_string_one()"
   ]
  },
  {
   "cell_type": "code",
   "execution_count": 12,
   "id": "c796a805",
   "metadata": {},
   "outputs": [
    {
     "data": {
      "text/plain": [
       "'two'"
      ]
     },
     "execution_count": 12,
     "metadata": {},
     "output_type": "execute_result"
    }
   ],
   "source": [
    "d1.show_string_two()"
   ]
  },
  {
   "cell_type": "code",
   "execution_count": 13,
   "id": "12f00ac6",
   "metadata": {},
   "outputs": [
    {
     "data": {
      "text/plain": [
       "'three'"
      ]
     },
     "execution_count": 13,
     "metadata": {},
     "output_type": "execute_result"
    }
   ],
   "source": [
    "d1.show_string_three()"
   ]
  },
  {
   "cell_type": "code",
   "execution_count": 14,
   "id": "0df759f9",
   "metadata": {},
   "outputs": [],
   "source": [
    "#multi level inheritance\n",
    " #parent class\n",
    "    \n",
    "class Parent():\n",
    "    def assign_name(self,name):\n",
    "        self.name = name\n",
    "        \n",
    "    def show_name(self):\n",
    "        return self.name\n",
    "    \n",
    "    "
   ]
  },
  {
   "cell_type": "code",
   "execution_count": 15,
   "id": "280c00fb",
   "metadata": {},
   "outputs": [],
   "source": [
    "#child class\n",
    "class Child(Parent):\n",
    "    def assign_age(self,age):\n",
    "        self.age = age\n",
    "        \n",
    "    def show_age(self):\n",
    "        return self.age\n",
    "    "
   ]
  },
  {
   "cell_type": "code",
   "execution_count": 16,
   "id": "c918ef67",
   "metadata": {},
   "outputs": [],
   "source": [
    "#GrandChild class\n",
    "class GrandChild(Child):\n",
    "    def assign_gender(self,gender):\n",
    "        self.gender = gender\n",
    "        \n",
    "    def show_gender(self):\n",
    "        return self.gender"
   ]
  },
  {
   "cell_type": "code",
   "execution_count": 17,
   "id": "fb8bfdf5",
   "metadata": {},
   "outputs": [],
   "source": [
    "gc = GrandChild()"
   ]
  },
  {
   "cell_type": "code",
   "execution_count": 18,
   "id": "5bf105fc",
   "metadata": {},
   "outputs": [],
   "source": [
    "gc.assign_name(\"piyush\")\n",
    "gc.assign_age(22)\n",
    "gc.assign_gender(\"male\")"
   ]
  },
  {
   "cell_type": "code",
   "execution_count": 22,
   "id": "bca3f448",
   "metadata": {},
   "outputs": [
    {
     "data": {
      "text/plain": [
       "'piyush'"
      ]
     },
     "execution_count": 22,
     "metadata": {},
     "output_type": "execute_result"
    }
   ],
   "source": [
    "gc.show_name()\n",
    "\n"
   ]
  },
  {
   "cell_type": "code",
   "execution_count": 20,
   "id": "6d552315",
   "metadata": {},
   "outputs": [
    {
     "data": {
      "text/plain": [
       "22"
      ]
     },
     "execution_count": 20,
     "metadata": {},
     "output_type": "execute_result"
    }
   ],
   "source": [
    "gc.show_age()"
   ]
  },
  {
   "cell_type": "code",
   "execution_count": 21,
   "id": "c1e385c2",
   "metadata": {},
   "outputs": [
    {
     "data": {
      "text/plain": [
       "'male'"
      ]
     },
     "execution_count": 21,
     "metadata": {},
     "output_type": "execute_result"
    }
   ],
   "source": [
    "gc.show_gender()"
   ]
  },
  {
   "cell_type": "code",
   "execution_count": null,
   "id": "cbc892e7",
   "metadata": {},
   "outputs": [],
   "source": []
  }
 ],
 "metadata": {
  "kernelspec": {
   "display_name": "Python 3 (ipykernel)",
   "language": "python",
   "name": "python3"
  },
  "language_info": {
   "codemirror_mode": {
    "name": "ipython",
    "version": 3
   },
   "file_extension": ".py",
   "mimetype": "text/x-python",
   "name": "python",
   "nbconvert_exporter": "python",
   "pygments_lexer": "ipython3",
   "version": "3.9.7"
  }
 },
 "nbformat": 4,
 "nbformat_minor": 5
}
