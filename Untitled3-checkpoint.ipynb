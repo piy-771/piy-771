{
 "cells": [
  {
   "cell_type": "code",
   "execution_count": 3,
   "id": "48556074",
   "metadata": {},
   "outputs": [
    {
     "name": "stdout",
     "output_type": "stream",
     "text": [
      "['l', 'u', 'r', 'a', 'p']\n"
     ]
    }
   ],
   "source": [
    "a = \"parul\"\n",
    "\n",
    "rev = reversed(a)\n",
    "print(list(rev))\n",
    "\n"
   ]
  },
  {
   "cell_type": "code",
   "execution_count": 4,
   "id": "400941ff",
   "metadata": {},
   "outputs": [
    {
     "name": "stdout",
     "output_type": "stream",
     "text": [
      "strig is pelidrome\n"
     ]
    }
   ],
   "source": [
    "a = \"repper\"\n",
    "\n",
    "b = a[::-1]\n",
    "if a ==b:\n",
    "    print(\"strig is pelidrome\")\n",
    "else:\n",
    "    print(\"string is not pelidrome\")"
   ]
  },
  {
   "cell_type": "code",
   "execution_count": 10,
   "id": "ce9bb0c7",
   "metadata": {},
   "outputs": [
    {
     "name": "stdout",
     "output_type": "stream",
     "text": [
      "2\n"
     ]
    }
   ],
   "source": [
    "a = \"globussoft\"\n",
    "count = 0\n",
    "for i in a:\n",
    "    if i == \"s\":\n",
    "        count += 1\n",
    "print(count)    \n",
    "    "
   ]
  },
  {
   "cell_type": "code",
   "execution_count": 16,
   "id": "50577e0d",
   "metadata": {},
   "outputs": [
    {
     "data": {
      "text/plain": [
       "['l', 'i', 's', 't', 'e', 'n']"
      ]
     },
     "execution_count": 16,
     "metadata": {},
     "output_type": "execute_result"
    }
   ],
   "source": [
    "a = \"listen\"\n",
    "b = list(a)\n",
    "b"
   ]
  },
  {
   "cell_type": "code",
   "execution_count": 17,
   "id": "94e1cb4a",
   "metadata": {},
   "outputs": [],
   "source": [
    "b.sort()"
   ]
  },
  {
   "cell_type": "code",
   "execution_count": 18,
   "id": "c0b3a3af",
   "metadata": {},
   "outputs": [
    {
     "data": {
      "text/plain": [
       "['e', 'i', 'l', 'n', 's', 't']"
      ]
     },
     "execution_count": 18,
     "metadata": {},
     "output_type": "execute_result"
    }
   ],
   "source": [
    "b"
   ]
  },
  {
   "cell_type": "code",
   "execution_count": 19,
   "id": "d2fffedb",
   "metadata": {},
   "outputs": [
    {
     "data": {
      "text/plain": [
       "['s', 'i', 'l', 'e', 'n', 't']"
      ]
     },
     "execution_count": 19,
     "metadata": {},
     "output_type": "execute_result"
    }
   ],
   "source": [
    "c = \"silent\"\n",
    "d = list(c)\n",
    "d"
   ]
  },
  {
   "cell_type": "code",
   "execution_count": 20,
   "id": "a1b74c73",
   "metadata": {},
   "outputs": [
    {
     "data": {
      "text/plain": [
       "['e', 'i', 'l', 'n', 's', 't']"
      ]
     },
     "execution_count": 20,
     "metadata": {},
     "output_type": "execute_result"
    }
   ],
   "source": [
    "d.sort()\n",
    "d"
   ]
  },
  {
   "cell_type": "code",
   "execution_count": 21,
   "id": "983b7164",
   "metadata": {},
   "outputs": [
    {
     "data": {
      "text/plain": [
       "True"
      ]
     },
     "execution_count": 21,
     "metadata": {},
     "output_type": "execute_result"
    }
   ],
   "source": [
    "b == d"
   ]
  },
  {
   "cell_type": "code",
   "execution_count": 24,
   "id": "def98709",
   "metadata": {},
   "outputs": [
    {
     "name": "stdout",
     "output_type": "stream",
     "text": [
      "of all fruits ['b,ana,na'] is my favorite\n"
     ]
    }
   ],
   "source": [
    "txt = \"     b,ana,na     \"\n",
    "\n",
    "x = txt.split()\n",
    "\n",
    "print(\"of all fruits\", x, \"is my favorite\")"
   ]
  },
  {
   "cell_type": "code",
   "execution_count": 29,
   "id": "9ee8d130",
   "metadata": {},
   "outputs": [
    {
     "name": "stdout",
     "output_type": "stream",
     "text": [
      "0\n",
      "1\n",
      "0\n",
      "2\n",
      "0\n",
      "3\n",
      "0\n",
      "4\n",
      "0\n",
      "5\n"
     ]
    }
   ],
   "source": [
    "a = 'aeiou'\n",
    "count_vowel = 0\n",
    "count_constuant = 0\n",
    "for i in a:\n",
    "    if i == [\"a\",\"e\",'i','o','u']:\n",
    "        count_vowel += 1\n",
    "    else:\n",
    "        count_constuant += 1\n",
    "    print(count_vowel) \n",
    "    print(count_constuant)"
   ]
  },
  {
   "cell_type": "code",
   "execution_count": null,
   "id": "442f6aa9",
   "metadata": {},
   "outputs": [],
   "source": []
  }
 ],
 "metadata": {
  "kernelspec": {
   "display_name": "Python 3 (ipykernel)",
   "language": "python",
   "name": "python3"
  },
  "language_info": {
   "codemirror_mode": {
    "name": "ipython",
    "version": 3
   },
   "file_extension": ".py",
   "mimetype": "text/x-python",
   "name": "python",
   "nbconvert_exporter": "python",
   "pygments_lexer": "ipython3",
   "version": "3.9.7"
  }
 },
 "nbformat": 4,
 "nbformat_minor": 5
}
