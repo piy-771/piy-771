{
 "cells": [
  {
   "cell_type": "code",
   "execution_count": 1,
   "id": "1fb53ca5",
   "metadata": {},
   "outputs": [
    {
     "name": "stdout",
     "output_type": "stream",
     "text": [
      "99\n",
      "<class 'int'>\n"
     ]
    }
   ],
   "source": [
    "a = 99\n",
    "print(a)\n",
    "print(type(a))"
   ]
  },
  {
   "cell_type": "code",
   "execution_count": 2,
   "id": "414db5f2",
   "metadata": {},
   "outputs": [
    {
     "name": "stdout",
     "output_type": "stream",
     "text": [
      "99.0\n"
     ]
    }
   ],
   "source": [
    "b = float(a)\n",
    "print(b)"
   ]
  },
  {
   "cell_type": "code",
   "execution_count": 3,
   "id": "2ef99177",
   "metadata": {},
   "outputs": [
    {
     "name": "stdout",
     "output_type": "stream",
     "text": [
      "<class 'float'>\n"
     ]
    }
   ],
   "source": [
    "print(type(b))"
   ]
  },
  {
   "cell_type": "code",
   "execution_count": 4,
   "id": "0553586f",
   "metadata": {},
   "outputs": [
    {
     "name": "stdout",
     "output_type": "stream",
     "text": [
      "\f",
      "\n"
     ]
    }
   ],
   "source": [
    "clear"
   ]
  },
  {
   "cell_type": "code",
   "execution_count": 5,
   "id": "9ffa7a38",
   "metadata": {},
   "outputs": [
    {
     "name": "stdout",
     "output_type": "stream",
     "text": [
      "99\n"
     ]
    }
   ],
   "source": [
    "print(a)"
   ]
  },
  {
   "cell_type": "code",
   "execution_count": 12,
   "id": "43b8f4ca",
   "metadata": {},
   "outputs": [
    {
     "name": "stdout",
     "output_type": "stream",
     "text": [
      "99.9\n",
      "<class 'float'>\n",
      "63336368\n"
     ]
    }
   ],
   "source": [
    "a = 99.9\n",
    "print(a)\n",
    "print(type(a))\n",
    "print(id(a))"
   ]
  },
  {
   "cell_type": "code",
   "execution_count": 7,
   "id": "9c9a17dd",
   "metadata": {},
   "outputs": [
    {
     "name": "stdout",
     "output_type": "stream",
     "text": [
      "99\n",
      "<class 'int'>\n"
     ]
    }
   ],
   "source": [
    "b = int(a)\n",
    "print(b)\n",
    "print(type(b))"
   ]
  },
  {
   "cell_type": "code",
   "execution_count": 8,
   "id": "f2377645",
   "metadata": {},
   "outputs": [
    {
     "name": "stdout",
     "output_type": "stream",
     "text": [
      "(99.9+0j)\n",
      "<class 'complex'>\n"
     ]
    }
   ],
   "source": [
    "b = complex(a)\n",
    "print(b)\n",
    "print(type(b))"
   ]
  },
  {
   "cell_type": "code",
   "execution_count": 10,
   "id": "14b3ca6b",
   "metadata": {},
   "outputs": [
    {
     "name": "stdout",
     "output_type": "stream",
     "text": [
      "(99.9+4j)\n",
      "<class 'complex'>\n"
     ]
    }
   ],
   "source": [
    "c = complex(a,4)\n",
    "print(c)\n",
    "print(type(c))"
   ]
  },
  {
   "cell_type": "code",
   "execution_count": 13,
   "id": "408622ed",
   "metadata": {},
   "outputs": [
    {
     "name": "stdout",
     "output_type": "stream",
     "text": [
      "99\n",
      "<class 'str'>\n",
      "11630240\n"
     ]
    }
   ],
   "source": [
    "a = 99\n",
    "b = str(a)\n",
    "print(b)\n",
    "print(type(b))\n",
    "print(id(a))"
   ]
  },
  {
   "cell_type": "code",
   "execution_count": 16,
   "id": "a639f95d",
   "metadata": {},
   "outputs": [
    {
     "name": "stdout",
     "output_type": "stream",
     "text": [
      "10\n",
      "<class 'int'>\n",
      "11628816\n"
     ]
    }
   ],
   "source": [
    "a = 10\n",
    "print(a)\n",
    "print(type(a))\n",
    "print(id(a))"
   ]
  },
  {
   "cell_type": "code",
   "execution_count": 17,
   "id": "bd41dcad",
   "metadata": {},
   "outputs": [
    {
     "name": "stdout",
     "output_type": "stream",
     "text": [
      "10\n",
      "<class 'int'>\n",
      "11628816\n"
     ]
    }
   ],
   "source": [
    "b = 10\n",
    "print(b)\n",
    "print(type(b))\n",
    "print(id(b))"
   ]
  },
  {
   "cell_type": "code",
   "execution_count": 18,
   "id": "974afbc7",
   "metadata": {},
   "outputs": [
    {
     "name": "stdout",
     "output_type": "stream",
     "text": [
      "True\n"
     ]
    }
   ],
   "source": [
    "print(a is b)"
   ]
  },
  {
   "cell_type": "code",
   "execution_count": 19,
   "id": "050975f3",
   "metadata": {},
   "outputs": [
    {
     "name": "stdout",
     "output_type": "stream",
     "text": [
      "[23, 56, 78, 45, 25]\n",
      "<class 'list'>\n"
     ]
    }
   ],
   "source": [
    "lst = \n",
    "print(lst)\n",
    "print (type(lst))"
   ]
  },
  {
   "cell_type": "code",
   "execution_count": 21,
   "id": "d2c48fdf",
   "metadata": {},
   "outputs": [
    {
     "name": "stdout",
     "output_type": "stream",
     "text": [
      "[23, 56, 78, 45, 25, 200, 200]\n"
     ]
    }
   ],
   "source": [
    "lst.append(200)\n",
    "print(lst)"
   ]
  },
  {
   "cell_type": "code",
   "execution_count": null,
   "id": "743f120f",
   "metadata": {},
   "outputs": [],
   "source": []
  },
  {
   "cell_type": "code",
   "execution_count": 22,
   "id": "b82684c2",
   "metadata": {
    "scrolled": true
   },
   "outputs": [
    {
     "name": "stdout",
     "output_type": "stream",
     "text": [
      "[23, 56, 78, 45, 25, 200, 200]\n",
      "<class 'list'>\n"
     ]
    }
   ],
   "source": [
    "lst1 = [23,56,78,45,25,200,200]\n",
    "print(lst)\n",
    "print(type(lst))"
   ]
  },
  {
   "cell_type": "code",
   "execution_count": 24,
   "id": "49c9e5d1",
   "metadata": {},
   "outputs": [
    {
     "name": "stdout",
     "output_type": "stream",
     "text": [
      "False\n"
     ]
    }
   ],
   "source": [
    "print(lst is lst1)"
   ]
  },
  {
   "cell_type": "code",
   "execution_count": 2,
   "id": "6c5e3266",
   "metadata": {},
   "outputs": [
    {
     "name": "stdout",
     "output_type": "stream",
     "text": [
      "200\n"
     ]
    }
   ],
   "source": [
    "def mul():\n",
    "    a = 10\n",
    "    b = 20\n",
    "    c = a*b\n",
    "    print(c)\n",
    "    \n",
    "mul()    "
   ]
  },
  {
   "cell_type": "code",
   "execution_count": 3,
   "id": "f954e3cc",
   "metadata": {},
   "outputs": [
    {
     "name": "stdout",
     "output_type": "stream",
     "text": [
      "200\n",
      "1656583788\n"
     ]
    }
   ],
   "source": [
    "print(id(mul()))"
   ]
  },
  {
   "cell_type": "code",
   "execution_count": 6,
   "id": "a17761d7",
   "metadata": {},
   "outputs": [
    {
     "name": "stdout",
     "output_type": "stream",
     "text": [
      "200\n"
     ]
    }
   ],
   "source": [
    "def mul(x,y):\n",
    "    c = x*y\n",
    "    print(c)\n",
    "    \n",
    "mul(10,20)    "
   ]
  },
  {
   "cell_type": "code",
   "execution_count": 7,
   "id": "0a387bf1",
   "metadata": {},
   "outputs": [
    {
     "name": "stdout",
     "output_type": "stream",
     "text": [
      "200\n"
     ]
    }
   ],
   "source": [
    "def mul():\n",
    "    a = 10\n",
    "    b = 20\n",
    "    c = a*b\n",
    "    return c\n",
    "\n",
    "res = mul()\n",
    "print(res)"
   ]
  },
  {
   "cell_type": "code",
   "execution_count": 8,
   "id": "343440bf",
   "metadata": {},
   "outputs": [
    {
     "name": "stdout",
     "output_type": "stream",
     "text": [
      "200\n"
     ]
    }
   ],
   "source": [
    "def mul(x,y):\n",
    "    c = x*y\n",
    "    return(c)\n",
    "\n",
    "res = mul(10,20)\n",
    "print(res)"
   ]
  },
  {
   "cell_type": "code",
   "execution_count": 21,
   "id": "7bb0f6e6",
   "metadata": {},
   "outputs": [
    {
     "name": "stdout",
     "output_type": "stream",
     "text": [
      "32\n",
      "32\n"
     ]
    }
   ],
   "source": [
    "def power_of(a,b):\n",
    "    c = a**b\n",
    "    print(c)\n",
    "    \n",
    "power_of(a=2,b=5)\n",
    "power_of(b=5,a=2)"
   ]
  },
  {
   "cell_type": "code",
   "execution_count": 18,
   "id": "25fff1ce",
   "metadata": {},
   "outputs": [
    {
     "name": "stdout",
     "output_type": "stream",
     "text": [
      "2 3 3\n"
     ]
    }
   ],
   "source": [
    "def fun(a,c,b=1,):\n",
    "    print(a,c,c)\n",
    "    \n",
    "fun(2,3,6)    "
   ]
  },
  {
   "cell_type": "code",
   "execution_count": 29,
   "id": "e15ced76",
   "metadata": {},
   "outputs": [
    {
     "name": "stdout",
     "output_type": "stream",
     "text": [
      "('cheese', 'onion', 'olives', 'corn')\n",
      "thin\n",
      "piyush\n"
     ]
    }
   ],
   "source": [
    "def pizza_toppings(name,*toppings,crust):\n",
    "    print(toppings)\n",
    "    print(crust)\n",
    "    print(name)\n",
    "    \n",
    "#pizza_toppings(\"cheese\")\n",
    "pizza_toppings(\"piyush\",\"cheese\",\"onion\",\"olives\",\"corn\",crust=\"thin\")"
   ]
  },
  {
   "cell_type": "code",
   "execution_count": 25,
   "id": "d5f625f8",
   "metadata": {},
   "outputs": [
    {
     "ename": "NameError",
     "evalue": "name 'toppings' is not defined",
     "output_type": "error",
     "traceback": [
      "\u001b[1;31m---------------------------------------------------------------------------\u001b[0m",
      "\u001b[1;31mNameError\u001b[0m                                 Traceback (most recent call last)",
      "\u001b[1;32m~\\AppData\\Local\\Temp/ipykernel_436/2726484497.py\u001b[0m in \u001b[0;36m<module>\u001b[1;34m\u001b[0m\n\u001b[1;32m----> 1\u001b[1;33m \u001b[0mprint\u001b[0m\u001b[1;33m(\u001b[0m\u001b[0mtype\u001b[0m\u001b[1;33m(\u001b[0m\u001b[0mtoppings\u001b[0m\u001b[1;33m)\u001b[0m\u001b[1;33m)\u001b[0m\u001b[1;33m\u001b[0m\u001b[1;33m\u001b[0m\u001b[0m\n\u001b[0m",
      "\u001b[1;31mNameError\u001b[0m: name 'toppings' is not defined"
     ]
    }
   ],
   "source": [
    "print(type(toppings))"
   ]
  },
  {
   "cell_type": "code",
   "execution_count": 34,
   "id": "32cdf5cd",
   "metadata": {},
   "outputs": [
    {
     "name": "stdout",
     "output_type": "stream",
     "text": [
      "{'name': 'piyush', 'age': 21, 'avg': 60.2, 'gender': 'M'}\n",
      "<class 'dict'>\n"
     ]
    }
   ],
   "source": [
    "def collect_student_data(**data):\n",
    "    print(data)\n",
    "    print(type(data))\n",
    "    \n",
    "collect_student_data(name=\"piyush\",age=21,avg=60.2,gender=\"M\")    "
   ]
  },
  {
   "cell_type": "code",
   "execution_count": 39,
   "id": "971ee558",
   "metadata": {},
   "outputs": [
    {
     "ename": "SyntaxError",
     "evalue": "invalid syntax (Temp/ipykernel_436/2251762328.py, line 2)",
     "output_type": "error",
     "traceback": [
      "\u001b[1;36m  File \u001b[1;32m\"C:\\Users\\PIYUSH\\AppData\\Local\\Temp/ipykernel_436/2251762328.py\"\u001b[1;36m, line \u001b[1;32m2\u001b[0m\n\u001b[1;33m    10 2 5 53 25\u001b[0m\n\u001b[1;37m       ^\u001b[0m\n\u001b[1;31mSyntaxError\u001b[0m\u001b[1;31m:\u001b[0m invalid syntax\n"
     ]
    }
   ],
   "source": [
    "import sys\n",
    "10 2 5 53 25\n",
    "print(sys.argv[0])"
   ]
  },
  {
   "cell_type": "code",
   "execution_count": 2,
   "id": "e11a97ea",
   "metadata": {},
   "outputs": [],
   "source": [
    "if False:\n",
    "    print(\"condition is true\")"
   ]
  },
  {
   "cell_type": "code",
   "execution_count": 3,
   "id": "2b9be698",
   "metadata": {},
   "outputs": [
    {
     "name": "stdout",
     "output_type": "stream",
     "text": [
      "Enter a number\n",
      "12\n",
      "12 is even\n"
     ]
    }
   ],
   "source": [
    "n = int(input(\"Enter a number\\n\"))\n",
    "\n",
    "if n%2==0:\n",
    "    print(n,\"is even\")"
   ]
  },
  {
   "cell_type": "code",
   "execution_count": 1,
   "id": "349853c5",
   "metadata": {},
   "outputs": [
    {
     "name": "stdout",
     "output_type": "stream",
     "text": [
      "Enter a number\n",
      "33\n"
     ]
    }
   ],
   "source": [
    "n = int(input(\"Enter a number\\n\"))\n",
    "\n",
    "if n%2==0:\n",
    "    print(n,\"is even\")"
   ]
  },
  {
   "cell_type": "code",
   "execution_count": 5,
   "id": "2aaf0cd1",
   "metadata": {},
   "outputs": [
    {
     "name": "stdout",
     "output_type": "stream",
     "text": [
      "Enter a number\n",
      "12\n",
      "12 is even\n"
     ]
    }
   ],
   "source": [
    "n = int(input(\"Enter a number\\n\"))\n",
    "\n",
    "if n%2==0:\n",
    "    print(n,\"is even\")\n",
    "    \n",
    "    \n",
    "else:\n",
    "    print(n,\"is odd\")    "
   ]
  },
  {
   "cell_type": "code",
   "execution_count": 6,
   "id": "0bdc59ec",
   "metadata": {},
   "outputs": [
    {
     "name": "stdout",
     "output_type": "stream",
     "text": [
      "Enter a number\n",
      "45\n",
      "45 is odd\n"
     ]
    }
   ],
   "source": [
    "n = int(input(\"Enter a number\\n\"))\n",
    "\n",
    "if n%2==0:\n",
    "    print(n,\"is even\")\n",
    "    \n",
    "    \n",
    "else:\n",
    "    print(n,\"is odd\")    "
   ]
  },
  {
   "cell_type": "code",
   "execution_count": 8,
   "id": "b91de53f",
   "metadata": {},
   "outputs": [
    {
     "name": "stdout",
     "output_type": "stream",
     "text": [
      "Enterf the 1st number\n",
      "12\n",
      "Enterf the 2st number\n",
      "45\n",
      "Enterf the 3st number\n",
      "20\n",
      "45 is the largest\n"
     ]
    }
   ],
   "source": [
    "a = int(input(\"Enterf the 1st number\\n\"))\n",
    "b = int(input(\"Enterf the 2st number\\n\"))\n",
    "c = int(input(\"Enterf the 3st number\\n\"))\n",
    "\n",
    "if a>b and a>c:\n",
    "    print(a,\"is the largest\")\n",
    "elif b>c:\n",
    "    print(b,\"is the largest\")\n",
    "else:\n",
    "    print(c,\"is the largest\")\n",
    "    "
   ]
  },
  {
   "cell_type": "code",
   "execution_count": 11,
   "id": "f399f9fe",
   "metadata": {},
   "outputs": [
    {
     "name": "stdout",
     "output_type": "stream",
     "text": [
      "13 is divisible by neither 3 or 5\n"
     ]
    }
   ],
   "source": [
    "a = 13\n",
    "\n",
    "if a%3==0 or a%5==0:\n",
    "    print(a,\"is divisible by either 3 or 5\")\n",
    "else:\n",
    "    print(a,\"is divisible by neither 3 or 5\")"
   ]
  },
  {
   "cell_type": "code",
   "execution_count": 13,
   "id": "88efcd00",
   "metadata": {},
   "outputs": [
    {
     "name": "stdout",
     "output_type": "stream",
     "text": [
      "Enter anumber\n",
      "45\n",
      "45 odd number\n"
     ]
    }
   ],
   "source": [
    "n = int(input(\"Enter anumber\\n\"))\n",
    "\n",
    "if not (n%2==0):\n",
    "    print(n,\"odd number\")\n",
    "    \n",
    "else:\n",
    "    print(n,\"even number\")\n",
    "    "
   ]
  },
  {
   "cell_type": "code",
   "execution_count": null,
   "id": "51b5b76d",
   "metadata": {},
   "outputs": [],
   "source": []
  },
  {
   "cell_type": "code",
   "execution_count": null,
   "id": "531dda59",
   "metadata": {},
   "outputs": [],
   "source": []
  },
  {
   "cell_type": "code",
   "execution_count": null,
   "id": "0cd6bb8a",
   "metadata": {},
   "outputs": [],
   "source": []
  },
  {
   "cell_type": "code",
   "execution_count": null,
   "id": "42cd478f",
   "metadata": {},
   "outputs": [],
   "source": []
  },
  {
   "cell_type": "code",
   "execution_count": null,
   "id": "45e02916",
   "metadata": {},
   "outputs": [],
   "source": []
  },
  {
   "cell_type": "code",
   "execution_count": null,
   "id": "3edac74b",
   "metadata": {},
   "outputs": [],
   "source": []
  }
 ],
 "metadata": {
  "kernelspec": {
   "display_name": "Python 3 (ipykernel)",
   "language": "python",
   "name": "python3"
  },
  "language_info": {
   "codemirror_mode": {
    "name": "ipython",
    "version": 3
   },
   "file_extension": ".py",
   "mimetype": "text/x-python",
   "name": "python",
   "nbconvert_exporter": "python",
   "pygments_lexer": "ipython3",
   "version": "3.9.7"
  }
 },
 "nbformat": 4,
 "nbformat_minor": 5
}
