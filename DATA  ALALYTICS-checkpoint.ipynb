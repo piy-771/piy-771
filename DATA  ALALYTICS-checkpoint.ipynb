{
 "cells": [
  {
   "cell_type": "code",
   "execution_count": 13,
   "id": "d88ea0cf",
   "metadata": {},
   "outputs": [
    {
     "name": "stdout",
     "output_type": "stream",
     "text": [
      "<itertools.permutations object at 0x054CE8C0>\n",
      "(1, 2)\n",
      "(1, 3)\n",
      "(2, 1)\n",
      "(2, 3)\n",
      "(3, 1)\n",
      "(3, 2)\n",
      "Permutation count :  6\n"
     ]
    }
   ],
   "source": [
    "#PERMUTATION\n",
    "from itertools import permutations\n",
    "count = 0 \n",
    "data = [1,2,3]\n",
    "per = permutations(data,2)\n",
    "print(per)\n",
    "for i in per:\n",
    "    print(i)\n",
    "    count += 1\n",
    "print(\"Permutation count : \", count) \n",
    "   \n",
    "    "
   ]
  },
  {
   "cell_type": "code",
   "execution_count": 8,
   "id": "f0439335",
   "metadata": {},
   "outputs": [
    {
     "name": "stdout",
     "output_type": "stream",
     "text": [
      "[()]\n",
      "Permutation count :  0\n"
     ]
    }
   ],
   "source": [
    "from itertools import permutations\n",
    "count = 0 \n",
    "\n",
    "per = permutations([1,2,3],0)\n",
    "\n",
    "for i in per:\n",
    "    print(i)\n",
    "    count += 1\n",
    "print(\"Permutation count : \", count) "
   ]
  },
  {
   "cell_type": "code",
   "execution_count": 15,
   "id": "68b59511",
   "metadata": {},
   "outputs": [
    {
     "name": "stdout",
     "output_type": "stream",
     "text": [
      "<itertools.combinations object at 0x054D5230>\n",
      "(1, 2)\n",
      "(1, 3)\n",
      "(2, 3)\n",
      "combination count :  3\n"
     ]
    }
   ],
   "source": [
    "from itertools import combinations\n",
    "count = 0 \n",
    "data = [1,2,3]\n",
    "per = combinations(data,2)\n",
    "print(per)\n",
    "for i in per:\n",
    "    print(i)\n",
    "    count += 1\n",
    "print(\"combination count : \", count) "
   ]
  },
  {
   "cell_type": "code",
   "execution_count": 38,
   "id": "84547e02",
   "metadata": {},
   "outputs": [
    {
     "name": "stdout",
     "output_type": "stream",
     "text": [
      "('a', 'b', 'c')\n",
      "('a', 'b', ' ')\n",
      "('a', 'c', ' ')\n",
      "('b', 'c', ' ')\n"
     ]
    }
   ],
   "source": [
    "from itertools import combinations\n",
    "count = 0 \n",
    "data = \"abc \"\n",
    "per = combinations(data,3)\n",
    "\n",
    "for i in per:\n",
    "    print(i)\n",
    "    count += 1"
   ]
  },
  {
   "cell_type": "code",
   "execution_count": 36,
   "id": "f35c32c4",
   "metadata": {},
   "outputs": [
    {
     "name": "stdout",
     "output_type": "stream",
     "text": [
      "(1, 1)\n",
      "(1, 2)\n",
      "(1, 3)\n",
      "(2, 2)\n",
      "(2, 3)\n",
      "(3, 3)\n",
      "6\n"
     ]
    }
   ],
   "source": [
    "from itertools import combinations_with_replacement as cr\n",
    "count = 0 \n",
    "data = [1,2,3]\n",
    "per = cr(data,2)\n",
    "\n",
    "for i in per:\n",
    "    print(i)\n",
    "    count += 1\n",
    "    \n",
    "print(count)"
   ]
  },
  {
   "cell_type": "code",
   "execution_count": 2,
   "id": "132c26b8",
   "metadata": {},
   "outputs": [],
   "source": [
    "#population and sampling\n",
    "import pandas as pd  #useful loading for dataset\n",
    "import numpy as np #useful for doing mathematical operation\n",
    "dataset = pd.read_csv(\"C:\\\\Users\\\\PIYUSH\\\\Downloads\\\\8_Population & Sampling\\\\8_Population & Sampling\\\\Dataset.csv\")\n"
   ]
  },
  {
   "cell_type": "code",
   "execution_count": 7,
   "id": "aed8d766",
   "metadata": {},
   "outputs": [
    {
     "data": {
      "text/html": [
       "<div>\n",
       "<style scoped>\n",
       "    .dataframe tbody tr th:only-of-type {\n",
       "        vertical-align: middle;\n",
       "    }\n",
       "\n",
       "    .dataframe tbody tr th {\n",
       "        vertical-align: top;\n",
       "    }\n",
       "\n",
       "    .dataframe thead th {\n",
       "        text-align: right;\n",
       "    }\n",
       "</style>\n",
       "<table border=\"1\" class=\"dataframe\">\n",
       "  <thead>\n",
       "    <tr style=\"text-align: right;\">\n",
       "      <th></th>\n",
       "      <th>Id</th>\n",
       "      <th>LotArea</th>\n",
       "      <th>SalePrice</th>\n",
       "    </tr>\n",
       "  </thead>\n",
       "  <tbody>\n",
       "    <tr>\n",
       "      <th>0</th>\n",
       "      <td>1</td>\n",
       "      <td>8450</td>\n",
       "      <td>208500</td>\n",
       "    </tr>\n",
       "    <tr>\n",
       "      <th>1</th>\n",
       "      <td>2</td>\n",
       "      <td>9600</td>\n",
       "      <td>181500</td>\n",
       "    </tr>\n",
       "    <tr>\n",
       "      <th>2</th>\n",
       "      <td>3</td>\n",
       "      <td>11250</td>\n",
       "      <td>223500</td>\n",
       "    </tr>\n",
       "    <tr>\n",
       "      <th>3</th>\n",
       "      <td>4</td>\n",
       "      <td>9550</td>\n",
       "      <td>140000</td>\n",
       "    </tr>\n",
       "    <tr>\n",
       "      <th>4</th>\n",
       "      <td>5</td>\n",
       "      <td>14260</td>\n",
       "      <td>250000</td>\n",
       "    </tr>\n",
       "    <tr>\n",
       "      <th>...</th>\n",
       "      <td>...</td>\n",
       "      <td>...</td>\n",
       "      <td>...</td>\n",
       "    </tr>\n",
       "    <tr>\n",
       "      <th>1455</th>\n",
       "      <td>1456</td>\n",
       "      <td>7917</td>\n",
       "      <td>175000</td>\n",
       "    </tr>\n",
       "    <tr>\n",
       "      <th>1456</th>\n",
       "      <td>1457</td>\n",
       "      <td>13175</td>\n",
       "      <td>210000</td>\n",
       "    </tr>\n",
       "    <tr>\n",
       "      <th>1457</th>\n",
       "      <td>1458</td>\n",
       "      <td>9042</td>\n",
       "      <td>266500</td>\n",
       "    </tr>\n",
       "    <tr>\n",
       "      <th>1458</th>\n",
       "      <td>1459</td>\n",
       "      <td>9717</td>\n",
       "      <td>142125</td>\n",
       "    </tr>\n",
       "    <tr>\n",
       "      <th>1459</th>\n",
       "      <td>1460</td>\n",
       "      <td>9937</td>\n",
       "      <td>147500</td>\n",
       "    </tr>\n",
       "  </tbody>\n",
       "</table>\n",
       "<p>1460 rows × 3 columns</p>\n",
       "</div>"
      ],
      "text/plain": [
       "        Id  LotArea  SalePrice\n",
       "0        1     8450     208500\n",
       "1        2     9600     181500\n",
       "2        3    11250     223500\n",
       "3        4     9550     140000\n",
       "4        5    14260     250000\n",
       "...    ...      ...        ...\n",
       "1455  1456     7917     175000\n",
       "1456  1457    13175     210000\n",
       "1457  1458     9042     266500\n",
       "1458  1459     9717     142125\n",
       "1459  1460     9937     147500\n",
       "\n",
       "[1460 rows x 3 columns]"
      ]
     },
     "execution_count": 7,
     "metadata": {},
     "output_type": "execute_result"
    }
   ],
   "source": [
    "dataset"
   ]
  },
  {
   "cell_type": "code",
   "execution_count": 8,
   "id": "d77ca1a4",
   "metadata": {},
   "outputs": [
    {
     "name": "stdout",
     "output_type": "stream",
     "text": [
      "(1460, 3)\n",
      "                Id        LotArea      SalePrice\n",
      "count  1460.000000    1460.000000    1460.000000\n",
      "mean    730.500000   10516.828082  180921.195890\n",
      "std     421.610009    9981.264932   79442.502883\n",
      "min       1.000000    1300.000000   34900.000000\n",
      "25%     365.750000    7553.500000  129975.000000\n",
      "50%     730.500000    9478.500000  163000.000000\n",
      "75%    1095.250000   11601.500000  214000.000000\n",
      "max    1460.000000  215245.000000  755000.000000\n",
      "   Id  LotArea  SalePrice\n",
      "0   1     8450     208500\n",
      "1   2     9600     181500\n",
      "2   3    11250     223500\n",
      "3   4     9550     140000\n",
      "4   5    14260     250000\n"
     ]
    }
   ],
   "source": [
    "print(dataset.shape)    #it gives me no. of rows and columns\n",
    "print(dataset.describe()) # it give me overall information like mini. value , max. valyue, count etc.\n",
    "print(dataset.head())      # it gives me top 5 cells"
   ]
  },
  {
   "cell_type": "code",
   "execution_count": 9,
   "id": "3c471573",
   "metadata": {},
   "outputs": [
    {
     "name": "stdout",
     "output_type": "stream",
     "text": [
      "Mean of simpleRamndomSample :  154508.4\n",
      "        Id  LotArea  SalePrice\n",
      "285    286     4251     164700\n",
      "341    342     8400      82000\n",
      "651    652     9084     108000\n",
      "717    718    10000     157000\n",
      "802    803     8199     189000\n",
      "1030  1031     7082     160000\n",
      "1095  1096     9317     176432\n",
      "1265  1266     3735     183900\n",
      "1364  1365     3180     144152\n",
      "1420  1421    11700     179900\n"
     ]
    }
   ],
   "source": [
    "#SIMPLE RANDOM SAMPLING\n",
    "simpleRamndomSample = dataset.sample(n=10).sort_values(by=\"Id\")\n",
    "mean_simpleRamndomSample = round(simpleRamndomSample['SalePrice'].mean(),3)\n",
    "print(\"Mean of simpleRamndomSample : \",mean_simpleRamndomSample)\n",
    "print(simpleRamndomSample)\n"
   ]
  },
  {
   "cell_type": "code",
   "execution_count": 14,
   "id": "90683d0b",
   "metadata": {},
   "outputs": [
    {
     "name": "stdout",
     "output_type": "stream",
     "text": [
      "[   0    5   10   15   20   25   30   35   40   45   50   55   60   65\n",
      "   70   75   80   85   90   95  100  105  110  115  120  125  130  135\n",
      "  140  145  150  155  160  165  170  175  180  185  190  195  200  205\n",
      "  210  215  220  225  230  235  240  245  250  255  260  265  270  275\n",
      "  280  285  290  295  300  305  310  315  320  325  330  335  340  345\n",
      "  350  355  360  365  370  375  380  385  390  395  400  405  410  415\n",
      "  420  425  430  435  440  445  450  455  460  465  470  475  480  485\n",
      "  490  495  500  505  510  515  520  525  530  535  540  545  550  555\n",
      "  560  565  570  575  580  585  590  595  600  605  610  615  620  625\n",
      "  630  635  640  645  650  655  660  665  670  675  680  685  690  695\n",
      "  700  705  710  715  720  725  730  735  740  745  750  755  760  765\n",
      "  770  775  780  785  790  795  800  805  810  815  820  825  830  835\n",
      "  840  845  850  855  860  865  870  875  880  885  890  895  900  905\n",
      "  910  915  920  925  930  935  940  945  950  955  960  965  970  975\n",
      "  980  985  990  995 1000 1005 1010 1015 1020 1025 1030 1035 1040 1045\n",
      " 1050 1055 1060 1065 1070 1075 1080 1085 1090 1095 1100 1105 1110 1115\n",
      " 1120 1125 1130 1135 1140 1145 1150 1155 1160 1165 1170 1175 1180 1185\n",
      " 1190 1195 1200 1205 1210 1215 1220 1225 1230 1235 1240 1245 1250 1255\n",
      " 1260 1265 1270 1275 1280 1285 1290 1295 1300 1305 1310 1315 1320 1325\n",
      " 1330 1335 1340 1345 1350 1355 1360 1365 1370 1375 1380 1385 1390 1395\n",
      " 1400 1405 1410 1415 1420 1425 1430 1435 1440 1445 1450 1455]\n",
      "Mean of systematicSamplr : 178146.13\n",
      "        Id  LotArea  SalePrice\n",
      "0        1     8450     208500\n",
      "5        6    14115     143000\n",
      "10      11    11200     129500\n",
      "15      16     6120     132000\n",
      "20      21    14215     325300\n",
      "...    ...      ...        ...\n",
      "1435  1436     8400     174000\n",
      "1440  1441    11526     191000\n",
      "1445  1446     8400     129000\n",
      "1450  1451     9000     136000\n",
      "1455  1456     7917     175000\n",
      "\n",
      "[292 rows x 3 columns]\n"
     ]
    }
   ],
   "source": [
    "#SYSTEMATIC SAMPLING\n",
    "index = np.arange(0,len(dataset),5)\n",
    "print(index)\n",
    "systematicSample = dataset.iloc[index]\n",
    "mean_systematicSample = round(systematicSample['SalePrice'].mean(),3)\n",
    "print(\"Mean of systematicSamplr :\",mean_systematicSample)\n",
    "print(systematicSample)\n"
   ]
  },
  {
   "cell_type": "code",
   "execution_count": 17,
   "id": "6387fa5f",
   "metadata": {},
   "outputs": [
    {
     "name": "stdout",
     "output_type": "stream",
     "text": [
      "Mean of clusterSample : 178146.13\n",
      "        Id  LotArea  SalePrice  cluster_id\n",
      "292    293    11409     131000           2\n",
      "293    294    16659     235000           2\n",
      "294    295     9600     167000           2\n",
      "295    296     7937     142500           2\n",
      "296    297    13710     152000           2\n",
      "...    ...      ...        ...         ...\n",
      "1163  1164    12900     108959           4\n",
      "1164  1165    16157     194000           4\n",
      "1165  1166     9541     233170           4\n",
      "1166  1167    10475     245350           4\n",
      "1167  1168    10852     173000           4\n",
      "\n",
      "[584 rows x 4 columns]\n"
     ]
    }
   ],
   "source": [
    "#CLUSTER SAMPLING\n",
    "n = 5\n",
    "#Divides the units into cluster of equal size\n",
    "dataset['cluster_id'] = np.repeat([range(1,n+1)],len(dataset)/n)\n",
    "index = []\n",
    "#For this formula , clusters id must be an even number\n",
    "for i in range(0,len(dataset)):\n",
    "    if dataset['cluster_id'].loc[i]%2 == 0:\n",
    "        index.append(i)\n",
    "clusterSample = dataset.iloc[index]\n",
    "mean_clusterSample = round(clusterSample['SalePrice'].mean(),3)\n",
    "print(\"Mean of clusterSample :\",mean_systematicSample)\n",
    "print(clusterSample)"
   ]
  },
  {
   "cell_type": "code",
   "execution_count": 18,
   "id": "44efb06c",
   "metadata": {},
   "outputs": [
    {
     "data": {
      "text/html": [
       "<div>\n",
       "<style scoped>\n",
       "    .dataframe tbody tr th:only-of-type {\n",
       "        vertical-align: middle;\n",
       "    }\n",
       "\n",
       "    .dataframe tbody tr th {\n",
       "        vertical-align: top;\n",
       "    }\n",
       "\n",
       "    .dataframe thead th {\n",
       "        text-align: right;\n",
       "    }\n",
       "</style>\n",
       "<table border=\"1\" class=\"dataframe\">\n",
       "  <thead>\n",
       "    <tr style=\"text-align: right;\">\n",
       "      <th></th>\n",
       "      <th>Id</th>\n",
       "      <th>LotArea</th>\n",
       "      <th>SalePrice</th>\n",
       "      <th>cluster_id</th>\n",
       "      <th>strata</th>\n",
       "    </tr>\n",
       "  </thead>\n",
       "  <tbody>\n",
       "    <tr>\n",
       "      <th>0</th>\n",
       "      <td>1</td>\n",
       "      <td>8450</td>\n",
       "      <td>208500</td>\n",
       "      <td>1</td>\n",
       "      <td>1</td>\n",
       "    </tr>\n",
       "    <tr>\n",
       "      <th>1</th>\n",
       "      <td>2</td>\n",
       "      <td>9600</td>\n",
       "      <td>181500</td>\n",
       "      <td>1</td>\n",
       "      <td>1</td>\n",
       "    </tr>\n",
       "    <tr>\n",
       "      <th>2</th>\n",
       "      <td>3</td>\n",
       "      <td>11250</td>\n",
       "      <td>223500</td>\n",
       "      <td>1</td>\n",
       "      <td>1</td>\n",
       "    </tr>\n",
       "    <tr>\n",
       "      <th>3</th>\n",
       "      <td>4</td>\n",
       "      <td>9550</td>\n",
       "      <td>140000</td>\n",
       "      <td>1</td>\n",
       "      <td>1</td>\n",
       "    </tr>\n",
       "    <tr>\n",
       "      <th>4</th>\n",
       "      <td>5</td>\n",
       "      <td>14260</td>\n",
       "      <td>250000</td>\n",
       "      <td>1</td>\n",
       "      <td>1</td>\n",
       "    </tr>\n",
       "    <tr>\n",
       "      <th>...</th>\n",
       "      <td>...</td>\n",
       "      <td>...</td>\n",
       "      <td>...</td>\n",
       "      <td>...</td>\n",
       "      <td>...</td>\n",
       "    </tr>\n",
       "    <tr>\n",
       "      <th>1455</th>\n",
       "      <td>1456</td>\n",
       "      <td>7917</td>\n",
       "      <td>175000</td>\n",
       "      <td>5</td>\n",
       "      <td>2</td>\n",
       "    </tr>\n",
       "    <tr>\n",
       "      <th>1456</th>\n",
       "      <td>1457</td>\n",
       "      <td>13175</td>\n",
       "      <td>210000</td>\n",
       "      <td>5</td>\n",
       "      <td>2</td>\n",
       "    </tr>\n",
       "    <tr>\n",
       "      <th>1457</th>\n",
       "      <td>1458</td>\n",
       "      <td>9042</td>\n",
       "      <td>266500</td>\n",
       "      <td>5</td>\n",
       "      <td>2</td>\n",
       "    </tr>\n",
       "    <tr>\n",
       "      <th>1458</th>\n",
       "      <td>1459</td>\n",
       "      <td>9717</td>\n",
       "      <td>142125</td>\n",
       "      <td>5</td>\n",
       "      <td>2</td>\n",
       "    </tr>\n",
       "    <tr>\n",
       "      <th>1459</th>\n",
       "      <td>1460</td>\n",
       "      <td>9937</td>\n",
       "      <td>147500</td>\n",
       "      <td>5</td>\n",
       "      <td>2</td>\n",
       "    </tr>\n",
       "  </tbody>\n",
       "</table>\n",
       "<p>1460 rows × 5 columns</p>\n",
       "</div>"
      ],
      "text/plain": [
       "        Id  LotArea  SalePrice  cluster_id  strata\n",
       "0        1     8450     208500           1       1\n",
       "1        2     9600     181500           1       1\n",
       "2        3    11250     223500           1       1\n",
       "3        4     9550     140000           1       1\n",
       "4        5    14260     250000           1       1\n",
       "...    ...      ...        ...         ...     ...\n",
       "1455  1456     7917     175000           5       2\n",
       "1456  1457    13175     210000           5       2\n",
       "1457  1458     9042     266500           5       2\n",
       "1458  1459     9717     142125           5       2\n",
       "1459  1460     9937     147500           5       2\n",
       "\n",
       "[1460 rows x 5 columns]"
      ]
     },
     "execution_count": 18,
     "metadata": {},
     "output_type": "execute_result"
    }
   ],
   "source": [
    "#Stratified random sampling\n",
    "dataset['strata'] = np.repeat([1,2],len(dataset)/2)\n",
    "index = []\n",
    "for i in range(0,len(dataset)):\n",
    "    index.append(i)\n",
    "stratifieldRandomSample = dataset.iloc[index]\n",
    "stratifieldRandomSample\n",
    "    "
   ]
  },
  {
   "cell_type": "code",
   "execution_count": 20,
   "id": "90b52a98",
   "metadata": {},
   "outputs": [
    {
     "name": "stdout",
     "output_type": "stream",
     "text": [
      "Requirement already satisfied: scikit-learn in c:\\users\\piyush\\anaconda3\\lib\\site-packages (0.24.2)\n",
      "Requirement already satisfied: threadpoolctl>=2.0.0 in c:\\users\\piyush\\anaconda3\\lib\\site-packages (from scikit-learn) (2.2.0)\n",
      "Requirement already satisfied: scipy>=0.19.1 in c:\\users\\piyush\\anaconda3\\lib\\site-packages (from scikit-learn) (1.6.2)\n",
      "Requirement already satisfied: numpy>=1.13.3 in c:\\users\\piyush\\anaconda3\\lib\\site-packages (from scikit-learn) (1.20.3)\n",
      "Requirement already satisfied: joblib>=0.11 in c:\\users\\piyush\\anaconda3\\lib\\site-packages (from scikit-learn) (1.1.0)\n"
     ]
    },
    {
     "data": {
      "text/html": [
       "<div>\n",
       "<style scoped>\n",
       "    .dataframe tbody tr th:only-of-type {\n",
       "        vertical-align: middle;\n",
       "    }\n",
       "\n",
       "    .dataframe tbody tr th {\n",
       "        vertical-align: top;\n",
       "    }\n",
       "\n",
       "    .dataframe thead th {\n",
       "        text-align: right;\n",
       "    }\n",
       "</style>\n",
       "<table border=\"1\" class=\"dataframe\">\n",
       "  <thead>\n",
       "    <tr style=\"text-align: right;\">\n",
       "      <th></th>\n",
       "      <th>Id</th>\n",
       "      <th>LotArea</th>\n",
       "      <th>SalePrice</th>\n",
       "      <th>cluster_id</th>\n",
       "      <th>strata</th>\n",
       "    </tr>\n",
       "  </thead>\n",
       "  <tbody>\n",
       "    <tr>\n",
       "      <th>342</th>\n",
       "      <td>343</td>\n",
       "      <td>8544</td>\n",
       "      <td>87500</td>\n",
       "      <td>2</td>\n",
       "      <td>1</td>\n",
       "    </tr>\n",
       "    <tr>\n",
       "      <th>535</th>\n",
       "      <td>536</td>\n",
       "      <td>7000</td>\n",
       "      <td>107500</td>\n",
       "      <td>2</td>\n",
       "      <td>1</td>\n",
       "    </tr>\n",
       "    <tr>\n",
       "      <th>826</th>\n",
       "      <td>827</td>\n",
       "      <td>6130</td>\n",
       "      <td>109500</td>\n",
       "      <td>3</td>\n",
       "      <td>2</td>\n",
       "    </tr>\n",
       "    <tr>\n",
       "      <th>1392</th>\n",
       "      <td>1393</td>\n",
       "      <td>7838</td>\n",
       "      <td>123000</td>\n",
       "      <td>5</td>\n",
       "      <td>2</td>\n",
       "    </tr>\n",
       "    <tr>\n",
       "      <th>63</th>\n",
       "      <td>64</td>\n",
       "      <td>10300</td>\n",
       "      <td>140000</td>\n",
       "      <td>1</td>\n",
       "      <td>1</td>\n",
       "    </tr>\n",
       "    <tr>\n",
       "      <th>1452</th>\n",
       "      <td>1453</td>\n",
       "      <td>3675</td>\n",
       "      <td>145000</td>\n",
       "      <td>5</td>\n",
       "      <td>2</td>\n",
       "    </tr>\n",
       "    <tr>\n",
       "      <th>1018</th>\n",
       "      <td>1019</td>\n",
       "      <td>10784</td>\n",
       "      <td>160000</td>\n",
       "      <td>4</td>\n",
       "      <td>2</td>\n",
       "    </tr>\n",
       "    <tr>\n",
       "      <th>271</th>\n",
       "      <td>272</td>\n",
       "      <td>39104</td>\n",
       "      <td>241500</td>\n",
       "      <td>1</td>\n",
       "      <td>1</td>\n",
       "    </tr>\n",
       "  </tbody>\n",
       "</table>\n",
       "</div>"
      ],
      "text/plain": [
       "        Id  LotArea  SalePrice  cluster_id  strata\n",
       "342    343     8544      87500           2       1\n",
       "535    536     7000     107500           2       1\n",
       "826    827     6130     109500           3       2\n",
       "1392  1393     7838     123000           5       2\n",
       "63      64    10300     140000           1       1\n",
       "1452  1453     3675     145000           5       2\n",
       "1018  1019    10784     160000           4       2\n",
       "271    272    39104     241500           1       1"
      ]
     },
     "execution_count": 20,
     "metadata": {},
     "output_type": "execute_result"
    }
   ],
   "source": [
    "!pip install scikit-learn\n",
    "from sklearn.model_selection import StratifiedShuffleSplit as sss\n",
    "\n",
    "#set the split criteria\n",
    "split = sss(n_splits = 1,  test_size = 8)\n",
    "\n",
    "#perform dataframe split\n",
    "for x,y in split.split(dataset,dataset['strata']):\n",
    "    stratifiedRandomSample = dataset.iloc[y].sort_values(by = 'SalePrice')\n",
    "stratifiedRandomSample    \n",
    "    "
   ]
  },
  {
   "cell_type": "code",
   "execution_count": 1,
   "id": "4bc94794",
   "metadata": {},
   "outputs": [
    {
     "name": "stdout",
     "output_type": "stream",
     "text": [
      "Requirement already satisfied: scipy in c:\\users\\piyush\\anaconda3\\lib\\site-packages (1.6.2)\n",
      "Requirement already satisfied: numpy<1.23.0,>=1.16.5 in c:\\users\\piyush\\anaconda3\\lib\\site-packages (from scipy) (1.20.3)\n"
     ]
    }
   ],
   "source": [
    "!pip install scipy"
   ]
  },
  {
   "cell_type": "code",
   "execution_count": 4,
   "id": "31dd0a04",
   "metadata": {},
   "outputs": [
    {
     "data": {
      "text/plain": [
       "'1.6.2'"
      ]
     },
     "execution_count": 4,
     "metadata": {},
     "output_type": "execute_result"
    }
   ],
   "source": [
    "import scipy\n",
    "scipy.__version__"
   ]
  },
  {
   "cell_type": "code",
   "execution_count": 5,
   "id": "68147d63",
   "metadata": {},
   "outputs": [
    {
     "data": {
      "text/plain": [
       "<StemContainer object of 3 artists>"
      ]
     },
     "execution_count": 5,
     "metadata": {},
     "output_type": "execute_result"
    },
    {
     "data": {
      "image/png": "[encoded data removed]",
      "text/plain": [
       "<Figure size 432x288 with 1 Axes>"
      ]
     },
     "metadata": {
      "needs_background": "light"
     },
     "output_type": "display_data"
    }
   ],
   "source": [
    "#BINOMIAL DISTRIBUTION\n",
    "from scipy.stats import binom #scitific python  binomial\n",
    "import matplotlib.pyplot as plt #graphs,chart\n",
    "\n",
    "num_trials = 10\n",
    "heads_probability = .5\n",
    "\n",
    "probs = [binom.pmf(i,num_trials,heads_probability) for i in range(11)] #probability mass function\n",
    "plt.stem(list(range(11)),probs)\n"
   ]
  },
  {
   "cell_type": "code",
   "execution_count": 7,
   "id": "c0e5905c",
   "metadata": {},
   "outputs": [
    {
     "data": {
      "text/plain": [
       "<StemContainer object of 3 artists>"
      ]
     },
     "execution_count": 7,
     "metadata": {},
     "output_type": "execute_result"
    },
    {
     "data": {
      "image/png": "[encoded data removed]",
      "text/plain": [
       "<Figure size 432x288 with 1 Axes>"
      ]
     },
     "metadata": {
      "needs_background": "light"
     },
     "output_type": "display_data"
    }
   ],
   "source": [
    "from scipy.stats import poisson\n",
    "rate = 3.3\n",
    "\n",
    "probs = [poisson.pmf(i,rate) for i in range(15)] #probability mass function\n",
    "plt.stem(list(range(15)),probs)"
   ]
  },
  {
   "cell_type": "code",
   "execution_count": null,
   "id": "349b2976",
   "metadata": {},
   "outputs": [],
   "source": []
  }
 ],
 "metadata": {
  "kernelspec": {
   "display_name": "Python 3 (ipykernel)",
   "language": "python",
   "name": "python3"
  },
  "language_info": {
   "codemirror_mode": {
    "name": "ipython",
    "version": 3
   },
   "file_extension": ".py",
   "mimetype": "text/x-python",
   "name": "python",
   "nbconvert_exporter": "python",
   "pygments_lexer": "ipython3",
   "version": "3.9.7"
  }
 },
 "nbformat": 4,
 "nbformat_minor": 5
}
