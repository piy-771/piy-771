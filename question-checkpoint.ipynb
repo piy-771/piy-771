{
 "cells": [
  {
   "cell_type": "code",
   "execution_count": 44,
   "id": "9ecce590",
   "metadata": {},
   "outputs": [
    {
     "name": "stdout",
     "output_type": "stream",
     "text": [
      "40\n",
      "13\n",
      "27\n"
     ]
    }
   ],
   "source": [
    "\n",
    "#calculate the no. of vowels and consotant in a strint\n",
    "v = ['a','e','i','o','u']\n",
    "vcount = 0 \n",
    "ccount = 0 \n",
    "\n",
    "a = \"Quitters never Win and Winner never Quit\"\n",
    "print(len(a))\n",
    "# lowercase  the string for reduce the compaision\n",
    "a = a.lower()\n",
    "for i  in a:\n",
    "    if i in v:\n",
    "        vcount = vcount + 1\n",
    "    \n",
    "    else:\n",
    "        ccount += 1\n",
    "print(vcount)\n",
    "print(ccount)    \n",
    "    \n",
    "    \n",
    "\n",
    "    \n",
    "    "
   ]
  },
  {
   "cell_type": "code",
   "execution_count": null,
   "id": "bddaa38d",
   "metadata": {},
   "outputs": [],
   "source": []
  }
 ],
 "metadata": {
  "kernelspec": {
   "display_name": "Python 3 (ipykernel)",
   "language": "python",
   "name": "python3"
  },
  "language_info": {
   "codemirror_mode": {
    "name": "ipython",
    "version": 3
   },
   "file_extension": ".py",
   "mimetype": "text/x-python",
   "name": "python",
   "nbconvert_exporter": "python",
   "pygments_lexer": "ipython3",
   "version": "3.9.7"
  }
 },
 "nbformat": 4,
 "nbformat_minor": 5
}
